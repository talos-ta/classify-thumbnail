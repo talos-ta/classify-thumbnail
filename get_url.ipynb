{
 "cells": [
  {
   "cell_type": "markdown",
   "metadata": {},
   "source": [
    "# サムネイルのURLを取得"
   ]
  },
  {
   "cell_type": "code",
   "execution_count": 1,
   "metadata": {},
   "outputs": [],
   "source": [
    "from apiclient.discovery import build\n",
    "\n",
    "DEVELOPER_KEY = '****'\n",
    "\n",
    "MAIN = 'UCutJqz56653xV2wwSvut_hQ'  # メインチャンネルのID\n",
    "SUB = 'UCynIYcsBwTrwBIecconPN2A'  # サブチャンネルのID\n",
    "\n",
    "TERM = [['2016-01-01T00:00:01Z', '2017-01-01T00:00:00Z'],\n",
    "        ['2017-01-01T00:00:01Z', '2018-01-01T00:00:00Z'],\n",
    "        ['2018-01-01T00:00:01Z', '2019-01-01T00:00:00Z'],\n",
    "        ['2019-01-01T00:00:01Z', '2020-01-01T00:00:00Z']]\n",
    "\n",
    "MAIN_FILE = './main_thumbnail.txt'\n",
    "SUB_FILE = './sub_thumbnail.txt'\n",
    "\n",
    "main_videos = []\n",
    "sub_videos = []"
   ]
  },
  {
   "cell_type": "markdown",
   "metadata": {},
   "source": [
    "## 動画のvideo IDを取得"
   ]
  },
  {
   "cell_type": "code",
   "execution_count": 2,
   "metadata": {},
   "outputs": [],
   "source": [
    "def get_videoId(channelId, pageToken, videos, t):\n",
    "    youtube = build('youtube', 'v3', developerKey=DEVELOPER_KEY)\n",
    "\n",
    "    search_response = youtube.search().list(\n",
    "        part='snippet',\n",
    "        maxResults=50,\n",
    "        channelId=channelId,\n",
    "        order='date',\n",
    "        pageToken=pageToken,\n",
    "        publishedAfter=t[0],\n",
    "        publishedBefore=t[1]\n",
    "    ).execute()\n",
    "    \n",
    "    for search_result in search_response.get('items', []):\n",
    "        if search_result['id']['kind'] == 'youtube#video':\n",
    "            videos.append(search_result['id']['videoId'])\n",
    "\n",
    "    try:\n",
    "        nextPageToken = search_response['nextPageToken']\n",
    "        get_videoId(channelId, nextPageToken, videos, t)\n",
    "    except:\n",
    "        return"
   ]
  },
  {
   "cell_type": "markdown",
   "metadata": {},
   "source": [
    "## サムネイルのURLを取得"
   ]
  },
  {
   "cell_type": "code",
   "execution_count": 3,
   "metadata": {},
   "outputs": [],
   "source": [
    "def get_url(videos, file):\n",
    "    youtube = build('youtube', 'v3', developerKey=DEVELOPER_KEY)\n",
    "    \n",
    "    with open(file, mode='w') as f:\n",
    "        for videoId in videos:\n",
    "            search_response = youtube.videos().list(\n",
    "                part='snippet',\n",
    "                id=videoId\n",
    "            ).execute()\n",
    "        \n",
    "            search_result = search_response.get('items', [])\n",
    "            f.write(search_result[0]['snippet']['thumbnails']['default']['url'] + '\\n')"
   ]
  },
  {
   "cell_type": "code",
   "execution_count": 4,
   "metadata": {},
   "outputs": [],
   "source": [
    "for t in TERM:\n",
    "    get_videoId(MAIN, '', main_videos, t)\n",
    "get_url(main_videos, MAIN_FILE)\n",
    "\n",
    "for t in TERM:\n",
    "    get_videoId(SUB, '', sub_videos, t)\n",
    "get_url(sub_videos, SUB_FILE)"
   ]
  }
 ],
 "metadata": {
  "kernelspec": {
   "display_name": "Python 3",
   "language": "python",
   "name": "python3"
  },
  "language_info": {
   "codemirror_mode": {
    "name": "ipython",
    "version": 3
   },
   "file_extension": ".py",
   "mimetype": "text/x-python",
   "name": "python",
   "nbconvert_exporter": "python",
   "pygments_lexer": "ipython3",
   "version": "3.7.3"
  }
 },
 "nbformat": 4,
 "nbformat_minor": 2
}
