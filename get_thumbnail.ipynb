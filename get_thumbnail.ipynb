{
 "cells": [
  {
   "cell_type": "markdown",
   "metadata": {},
   "source": [
    "# URLの画像を保存"
   ]
  },
  {
   "cell_type": "code",
   "execution_count": 1,
   "metadata": {},
   "outputs": [],
   "source": [
    "import urllib.request\n",
    "\n",
    "MAIN_FILE = './main_thumbnail.txt'\n",
    "SUB_FILE = './sub_thumbnail.txt'\n",
    "\n",
    "MAIN_DIR = './main/'\n",
    "SUB_DIR = './sub/'"
   ]
  },
  {
   "cell_type": "code",
   "execution_count": 2,
   "metadata": {},
   "outputs": [],
   "source": [
    "def get_thumbnail(file, directory):\n",
    "    count = 1\n",
    "    \n",
    "    with open(file, 'r') as f:\n",
    "        for url in f:\n",
    "            urllib.request.urlretrieve(url, directory+str(count)+'.jpg')\n",
    "            count += 1"
   ]
  },
  {
   "cell_type": "code",
   "execution_count": 3,
   "metadata": {},
   "outputs": [],
   "source": [
    "get_thumbnail(MAIN_FILE, MAIN_DIR)\n",
    "get_thumbnail(SUB_FILE, SUB_DIR)"
   ]
  }
 ],
 "metadata": {
  "kernelspec": {
   "display_name": "Python 3",
   "language": "python",
   "name": "python3"
  },
  "language_info": {
   "codemirror_mode": {
    "name": "ipython",
    "version": 3
   },
   "file_extension": ".py",
   "mimetype": "text/x-python",
   "name": "python",
   "nbconvert_exporter": "python",
   "pygments_lexer": "ipython3",
   "version": "3.7.3"
  }
 },
 "nbformat": 4,
 "nbformat_minor": 2
}
