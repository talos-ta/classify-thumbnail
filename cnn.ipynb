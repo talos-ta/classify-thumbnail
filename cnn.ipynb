{
 "cells": [
  {
   "cell_type": "markdown",
   "metadata": {},
   "source": [
    "# CNNでサムネイルを分類"
   ]
  },
  {
   "cell_type": "code",
   "execution_count": null,
   "metadata": {},
   "outputs": [],
   "source": [
    "import tensorflow as tf\n",
    "import os\n",
    "import numpy as np\n",
    "from PIL import Image\n",
    "from tensorflow.keras.utils import to_categorical\n",
    "from sklearn.model_selection import train_test_split\n",
    "from tensorflow.keras.models import Sequential\n",
    "from tensorflow.keras.layers import Conv2D, MaxPooling2D\n",
    "from tensorflow.keras.layers import Dense, Dropout, Flatten, Activation\n",
    "from matplotlib import pylab as plt\n",
    "%matplotlib inline\n",
    "\n",
    "DIR = ['./main/', './sub/']\n",
    "PREDICT_DIR = ['./predict_main/', './predict_sub/']\n",
    "CATEGORY = ['メイン', 'サブ']"
   ]
  },
  {
   "cell_type": "code",
   "execution_count": null,
   "metadata": {},
   "outputs": [],
   "source": [
    "def train_test():\n",
    "    x = []\n",
    "    y = []\n",
    "    \n",
    "    for i, directory in enumerate(DIR):\n",
    "        files = os.listdir(directory)\n",
    "        for file in files:\n",
    "            image = Image.open(directory+file)\n",
    "            image = image.convert('RGB')\n",
    "            data = np.asarray(image)\n",
    "            x.append(data)\n",
    "            y.append(i)\n",
    "\n",
    "    x = np.array(x)\n",
    "    x = x.astype('float32')\n",
    "    x = x / 255.0\n",
    "    \n",
    "    y = np.array(y)\n",
    "    y = to_categorical(y)\n",
    "    \n",
    "    x_train, x_test, y_train, y_test = train_test_split(x, y, test_size=0.2)\n",
    "    \n",
    "    model = Sequential()\n",
    "    \n",
    "    model.add(Conv2D(32, kernel_size=(3, 3),\n",
    "                     padding='same',\n",
    "                     input_shape=x_train.shape[1:]))\n",
    "    model.add(Activation('relu'))\n",
    "    model.add(Conv2D(32, kernel_size=(3, 3)))\n",
    "    model.add(Activation('relu'))\n",
    "    model.add(MaxPooling2D(pool_size=(2, 2)))\n",
    "    model.add(Dropout(0.25))\n",
    " \n",
    "    model.add(Conv2D(64, kernel_size=(3, 3),\n",
    "                     padding='same'))\n",
    "    model.add(Activation('relu'))\n",
    "    model.add(Conv2D(64, kernel_size=(3, 3)))\n",
    "    model.add(Activation('relu'))\n",
    "    model.add(MaxPooling2D(pool_size=(2, 2)))\n",
    "    model.add(Dropout(0.25))\n",
    " \n",
    "    model.add(Flatten())\n",
    "    model.add(Dense(512))\n",
    "    model.add(Activation('relu'))\n",
    "    model.add(Dropout(0.5))\n",
    "    model.add(Dense(2))\n",
    "    model.add(Activation('softmax'))\n",
    "\n",
    "    model.compile(optimizer='adam',\n",
    "                  loss='categorical_crossentropy',\n",
    "                  metrics=['accuracy'])\n",
    "\n",
    "    model.fit(x_train, y_train, epochs=30)\n",
    "    score = model.evaluate(x_test, y_test)\n",
    "    print('loss:'+str(score[0]))\n",
    "    print('acc:'+str(score[1]))\n",
    "    \n",
    "    predict = model.predict(x_test)\n",
    "    count = 0\n",
    "    for (pred, img) in zip(predict, x_test):\n",
    "        plt.imsave(PREDICT_DIR[np.argmax(pred)]+str(count)+'.jpg', img)\n",
    "        count += 1"
   ]
  },
  {
   "cell_type": "code",
   "execution_count": null,
   "metadata": {},
   "outputs": [],
   "source": [
    "train_test()"
   ]
  }
 ],
 "metadata": {
  "kernelspec": {
   "display_name": "Python 3",
   "language": "python",
   "name": "python3"
  },
  "language_info": {
   "codemirror_mode": {
    "name": "ipython",
    "version": 3
   },
   "file_extension": ".py",
   "mimetype": "text/x-python",
   "name": "python",
   "nbconvert_exporter": "python",
   "pygments_lexer": "ipython3",
   "version": "3.7.3"
  }
 },
 "nbformat": 4,
 "nbformat_minor": 2
}
